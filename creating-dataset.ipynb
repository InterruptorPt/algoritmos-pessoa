{
 "cells": [
  {
   "cell_type": "code",
   "execution_count": 1,
   "metadata": {},
   "outputs": [],
   "source": [
    "import os\n",
    "import glob\n",
    "import pandas as pd\n",
    "from bs4 import BeautifulSoup"
   ]
  },
  {
   "cell_type": "markdown",
   "metadata": {},
   "source": [
    "### 1) Varrer os textos do Arquivo Pessoa\n",
    "\n",
    "Na linha de comandos, executar:\n",
    "\n",
    "``` for i in {0..9999}; do wget http://arquivopessoa.net/textos/$i; done ```\n",
    "\n",
    "### 2) Iterar os ficheiros HTML"
   ]
  },
  {
   "cell_type": "code",
   "execution_count": 2,
   "metadata": {
    "scrolled": true
   },
   "outputs": [],
   "source": [
    "#ir buscar os ficheiros html\n",
    "file_location = os.path.join('pessoa-textos', '*.html')\n",
    "\n",
    "#initailizing empty list; each html will be converted to a dictionary\n",
    "dict_lst = []\n",
    "\n",
    "for file in glob.glob(file_location):\n",
    "    with open(file) as fp:\n",
    "        \n",
    "        soup = BeautifulSoup(fp)\n",
    "        \n",
    "        #get author\n",
    "        author = soup.find(\"div\", attrs = {\"class\": \"autor\"}).string\n",
    "            \n",
    "        #get title + title cleaning\n",
    "        text_title = soup.find(\"h1\", attrs = {\"class\": \"titulo-texto\"})\n",
    "        clean_title = text_title.text.replace('\\n', '').replace('\\xa0', '')  \n",
    "            \n",
    "        #get date\n",
    "        date = soup.find(\"div\", attrs = {\"class\": \"data\"}).string \n",
    "            \n",
    "        try:\n",
    "            #get full poem + poem tidying\n",
    "            full_text = soup.find(\"div\", attrs = {\"class\": \"texto-poesia\"})\n",
    "            clean_text = full_text.text.replace('<p>', '').replace('\\xa0', '').replace('</p>','\\n')\n",
    "            poem_text_dict = {}\n",
    "            for variable in [\"author\", \"clean_title\", \"clean_text\", \"date\"]:\n",
    "                poem_text_dict[variable] = eval(variable)\n",
    "            poem_text_dict[\"text_type\"] = \"poem\"\n",
    "            dict_lst.append(poem_text_dict)\n",
    "        \n",
    "        except:\n",
    "            #get full poem + prose tidying\n",
    "            full_text = soup.find(\"div\", attrs = {\"class\": \"texto-prosa\"})\n",
    "            clean_text = full_text.text.replace('<p>', '').replace('\\xa0', '').replace('</p>','\\n')       \n",
    "            prose_text_dict = {}\n",
    "            for variable in [\"author\", \"clean_title\", \"clean_text\", \"date\"]:\n",
    "                prose_text_dict[variable] = eval(variable)\n",
    "            prose_text_dict[\"text_type\"] = \"prose\"\n",
    "            dict_lst.append(prose_text_dict)\n",
    "            \n",
    "    full_data = pd.DataFrame(dict_lst)"
   ]
  },
  {
   "cell_type": "code",
   "execution_count": 3,
   "metadata": {},
   "outputs": [],
   "source": [
    "#adjusting column names and exporting to csv\n",
    "full_data.rename(columns={\"clean_title\":\"title\", \"clean_text\":\"text\"}, inplace=True)\n",
    "full_data.to_csv(\"pessoa_EN.csv\")"
   ]
  },
  {
   "cell_type": "code",
   "execution_count": 4,
   "metadata": {
    "scrolled": true
   },
   "outputs": [],
   "source": [
    "#adjusting stuff to portuguese and exporting to csv\n",
    "full_data_PT = full_data\n",
    "full_data_PT.rename(columns={\"author\":\"autor\", \"title\":\"título\",\"text\":\"texto\",\"date\":\"data\", \"text_type\":\"tipo\"}, inplace=True)\n",
    "full_data_PT.replace({'tipo': {\"poem\": \"poema\", \"prose\": \"prosa\"}}, inplace=True)\n",
    "full_data.to_csv(\"pessoa_PT.csv\")\n"
   ]
  }
 ],
 "metadata": {
  "kernelspec": {
   "display_name": "Python 3",
   "language": "python",
   "name": "python3"
  },
  "language_info": {
   "codemirror_mode": {
    "name": "ipython",
    "version": 3
   },
   "file_extension": ".py",
   "mimetype": "text/x-python",
   "name": "python",
   "nbconvert_exporter": "python",
   "pygments_lexer": "ipython3",
   "version": "3.7.6"
  }
 },
 "nbformat": 4,
 "nbformat_minor": 4
}
